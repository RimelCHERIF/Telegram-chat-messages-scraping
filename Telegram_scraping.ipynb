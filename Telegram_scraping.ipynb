{
 "cells": [
  {
   "cell_type": "code",
   "execution_count": 1,
   "id": "e371d307",
   "metadata": {},
   "outputs": [],
   "source": [
    "from telethon import TelegramClient\n",
    "import nest_asyncio\n",
    "from telethon.tl.types import ChannelParticipantsAdmins\n",
    "from datetime import datetime\n",
    "\n",
    "import pandas as pd\n",
    "nest_asyncio.apply()\n",
    "api_id = \"\"\n",
    "api_hash = \"\"\n",
    "client = TelegramClient('telegram_messages', api_id, api_hash)"
   ]
  },
  {
   "cell_type": "code",
   "execution_count": 19,
   "id": "ad0bea2c",
   "metadata": {},
   "outputs": [
    {
     "name": "stdout",
     "output_type": "stream",
     "text": [
      "thehackernews.jpg\n",
      "2023-02-04 04:44:13+00:00\n",
      "Alert: A new zero-day vulnerability in Fortra's GoAnywhere MFT application is being actively exploited, allowing remote code injection if the system is exposed to the public internet.\n",
      "\n",
      "Read: https://thehackernews.com/2023/02/warning-hackers-actively-exploiting.html\n",
      "2023-02-07 10:23:12+00:00\n",
      "VMware found no evidence of a zero-day in its software as part of an ongoing ransomware attack spree. Most reports suggest known vulnerabilities in outdated products are being targeted.\n",
      "\n",
      "Read: https://thehackernews.com/2023/02/vmware-finds-no-evidence-of-0-day-flaw.html\n",
      "       sender_id                                            message  \\\n",
      "0 -1001009650918  Alert: A new zero-day vulnerability in Fortra'...   \n",
      "1 -1001009650918  VMware found no evidence of a zero-day in its ...   \n",
      "\n",
      "                       date  \n",
      "0 2023-02-04 04:44:13+00:00  \n",
      "1 2023-02-07 10:23:12+00:00  \n"
     ]
    }
   ],
   "source": [
    "async def main():\n",
    "        #await client.send_message('me', ' waaa!')\n",
    "        #print(await client.get_dialogs())\n",
    "        #await client.send_message('TelegramAccount', 'hello a python script is talking to you')\n",
    "        #await client.download_profile_photo('me')\n",
    "        group_id = \"\"\n",
    "        df_users=pd.DataFrame()\n",
    "        df_messages=pd.DataFrame()\n",
    "        id_users=[]\n",
    "        last_name_users=[]\n",
    "        first_name_users=[]\n",
    "        senders_id=[]\n",
    "        messages_text=[]\n",
    "        messages_date=[]\n",
    "        path = await client.download_profile_photo(group_id)\n",
    "        print(path)\n",
    "        '''async for user in client.iter_participants(group_id):\n",
    "            id_users.append(user.id)\n",
    "            first_name_users.append(user.first_name)\n",
    "            last_name_users.append(user.last_name)'''\n",
    "        '''df_users[\"id_user\"]=id_users\n",
    "        df_users[\"first_name\"]=first_name_users\n",
    "        df_users[\"last_name\"]=last_name_users'''\n",
    "        #df_users.to_csv(\"telegram_\"+str(group_id)+\"_users.csv\")\n",
    "        '''async for user in client.iter_participants(group_id, filter=ChannelParticipantsAdmins):\n",
    "            print(user.first_name)'''\n",
    "        input_date_str=\"01/02/23 00:00:00\"\n",
    "        datetime_object = datetime.strptime(input_date_str, '%d/%m/%y %H:%M:%S')\n",
    "        async for message in client.iter_messages(group_id, reverse = True, offset_date =datetime_object):\n",
    "                #print(message.sender_id, ':', message.text)\n",
    "                messages_date.append(message.date)\n",
    "                senders_id.append(message.sender_id)\n",
    "                messages_text.append(message.text)\n",
    "                print(message.date)\n",
    "                print(message.text)\n",
    "        df_messages[\"sender_id\"]=senders_id\n",
    "        df_messages[\"message\"]=messages_text\n",
    "        df_messages[\"date\"]=messages_date\n",
    "        print(df_messages)\n",
    "        #df_messages.to_csv(\"file.csv\")\n",
    "\n",
    "        '''df_joined=df_messages.set_index('sender_id').join(df_users.set_index('id_user'))\n",
    "        print(df_joined)\n",
    "        df_joined.to_csv(\"file.csv\")'''\n",
    "\n",
    "async with client:\n",
    "     client.loop.run_until_complete(main())"
   ]
  }
 ],
 "metadata": {
  "kernelspec": {
   "display_name": "Python 3 (ipykernel)",
   "language": "python",
   "name": "python3"
  },
  "language_info": {
   "codemirror_mode": {
    "name": "ipython",
    "version": 3
   },
   "file_extension": ".py",
   "mimetype": "text/x-python",
   "name": "python",
   "nbconvert_exporter": "python",
   "pygments_lexer": "ipython3",
   "version": "3.10.8"
  }
 },
 "nbformat": 4,
 "nbformat_minor": 5
}
